{
  "nbformat": 4,
  "nbformat_minor": 0,
  "metadata": {
    "colab": {
      "name": "Github_SOM.ipynb",
      "provenance": [],
      "collapsed_sections": [],
      "toc_visible": true
    },
    "kernelspec": {
      "name": "python3",
      "display_name": "Python 3"
    }
  },
  "cells": [
    {
      "cell_type": "markdown",
      "metadata": {
        "id": "2Tmes7zGp7VM"
      },
      "source": [
        "## Part 1 - Data Preprocessing"
      ]
    },
    {
      "cell_type": "code",
      "metadata": {
        "id": "-CXAHbupnvlZ",
        "colab": {
          "base_uri": "https://localhost:8080/"
        },
        "outputId": "fdb623fa-94fd-444b-d7cb-6dd88c8de3e9"
      },
      "source": [
        "!pip install MiniSom"
      ],
      "execution_count": 1,
      "outputs": [
        {
          "output_type": "stream",
          "text": [
            "Requirement already satisfied: MiniSom in /usr/local/lib/python3.6/dist-packages (2.2.7)\n"
          ],
          "name": "stdout"
        }
      ]
    },
    {
      "cell_type": "code",
      "metadata": {
        "id": "8Z-wzpsu7C54"
      },
      "source": [
        "from minisom import MiniSom\r\n",
        "import numpy as np\r\n",
        "import pandas as pd\r\n",
        "import matplotlib.pyplot as plt\r\n",
        "from pylab import bone, pcolor, colorbar, plot, show\r\n",
        "from sklearn.preprocessing import MinMaxScaler"
      ],
      "execution_count": 2,
      "outputs": []
    },
    {
      "cell_type": "code",
      "metadata": {
        "id": "jMHdI5uEp6yG",
        "colab": {
          "base_uri": "https://localhost:8080/",
          "height": 407
        },
        "outputId": "23ed0777-1d50-444b-a283-545c60681349"
      },
      "source": [
        "#Dateset can be found in the following link:\r\n",
        "#https://archive.ics.uci.edu/ml/datasets/statlog+(australian+credit+approval)\r\n",
        "\r\n",
        "df = pd.read_csv('Credit_Card_Applications.csv')\r\n",
        "df"
      ],
      "execution_count": 3,
      "outputs": [
        {
          "output_type": "execute_result",
          "data": {
            "text/html": [
              "<div>\n",
              "<style scoped>\n",
              "    .dataframe tbody tr th:only-of-type {\n",
              "        vertical-align: middle;\n",
              "    }\n",
              "\n",
              "    .dataframe tbody tr th {\n",
              "        vertical-align: top;\n",
              "    }\n",
              "\n",
              "    .dataframe thead th {\n",
              "        text-align: right;\n",
              "    }\n",
              "</style>\n",
              "<table border=\"1\" class=\"dataframe\">\n",
              "  <thead>\n",
              "    <tr style=\"text-align: right;\">\n",
              "      <th></th>\n",
              "      <th>CustomerID</th>\n",
              "      <th>A1</th>\n",
              "      <th>A2</th>\n",
              "      <th>A3</th>\n",
              "      <th>A4</th>\n",
              "      <th>A5</th>\n",
              "      <th>A6</th>\n",
              "      <th>A7</th>\n",
              "      <th>A8</th>\n",
              "      <th>A9</th>\n",
              "      <th>A10</th>\n",
              "      <th>A11</th>\n",
              "      <th>A12</th>\n",
              "      <th>A13</th>\n",
              "      <th>A14</th>\n",
              "      <th>Class</th>\n",
              "    </tr>\n",
              "  </thead>\n",
              "  <tbody>\n",
              "    <tr>\n",
              "      <th>0</th>\n",
              "      <td>15776156</td>\n",
              "      <td>1</td>\n",
              "      <td>22.08</td>\n",
              "      <td>11.460</td>\n",
              "      <td>2</td>\n",
              "      <td>4</td>\n",
              "      <td>4</td>\n",
              "      <td>1.585</td>\n",
              "      <td>0</td>\n",
              "      <td>0</td>\n",
              "      <td>0</td>\n",
              "      <td>1</td>\n",
              "      <td>2</td>\n",
              "      <td>100</td>\n",
              "      <td>1213</td>\n",
              "      <td>0</td>\n",
              "    </tr>\n",
              "    <tr>\n",
              "      <th>1</th>\n",
              "      <td>15739548</td>\n",
              "      <td>0</td>\n",
              "      <td>22.67</td>\n",
              "      <td>7.000</td>\n",
              "      <td>2</td>\n",
              "      <td>8</td>\n",
              "      <td>4</td>\n",
              "      <td>0.165</td>\n",
              "      <td>0</td>\n",
              "      <td>0</td>\n",
              "      <td>0</td>\n",
              "      <td>0</td>\n",
              "      <td>2</td>\n",
              "      <td>160</td>\n",
              "      <td>1</td>\n",
              "      <td>0</td>\n",
              "    </tr>\n",
              "    <tr>\n",
              "      <th>2</th>\n",
              "      <td>15662854</td>\n",
              "      <td>0</td>\n",
              "      <td>29.58</td>\n",
              "      <td>1.750</td>\n",
              "      <td>1</td>\n",
              "      <td>4</td>\n",
              "      <td>4</td>\n",
              "      <td>1.250</td>\n",
              "      <td>0</td>\n",
              "      <td>0</td>\n",
              "      <td>0</td>\n",
              "      <td>1</td>\n",
              "      <td>2</td>\n",
              "      <td>280</td>\n",
              "      <td>1</td>\n",
              "      <td>0</td>\n",
              "    </tr>\n",
              "    <tr>\n",
              "      <th>3</th>\n",
              "      <td>15687688</td>\n",
              "      <td>0</td>\n",
              "      <td>21.67</td>\n",
              "      <td>11.500</td>\n",
              "      <td>1</td>\n",
              "      <td>5</td>\n",
              "      <td>3</td>\n",
              "      <td>0.000</td>\n",
              "      <td>1</td>\n",
              "      <td>1</td>\n",
              "      <td>11</td>\n",
              "      <td>1</td>\n",
              "      <td>2</td>\n",
              "      <td>0</td>\n",
              "      <td>1</td>\n",
              "      <td>1</td>\n",
              "    </tr>\n",
              "    <tr>\n",
              "      <th>4</th>\n",
              "      <td>15715750</td>\n",
              "      <td>1</td>\n",
              "      <td>20.17</td>\n",
              "      <td>8.170</td>\n",
              "      <td>2</td>\n",
              "      <td>6</td>\n",
              "      <td>4</td>\n",
              "      <td>1.960</td>\n",
              "      <td>1</td>\n",
              "      <td>1</td>\n",
              "      <td>14</td>\n",
              "      <td>0</td>\n",
              "      <td>2</td>\n",
              "      <td>60</td>\n",
              "      <td>159</td>\n",
              "      <td>1</td>\n",
              "    </tr>\n",
              "    <tr>\n",
              "      <th>...</th>\n",
              "      <td>...</td>\n",
              "      <td>...</td>\n",
              "      <td>...</td>\n",
              "      <td>...</td>\n",
              "      <td>...</td>\n",
              "      <td>...</td>\n",
              "      <td>...</td>\n",
              "      <td>...</td>\n",
              "      <td>...</td>\n",
              "      <td>...</td>\n",
              "      <td>...</td>\n",
              "      <td>...</td>\n",
              "      <td>...</td>\n",
              "      <td>...</td>\n",
              "      <td>...</td>\n",
              "      <td>...</td>\n",
              "    </tr>\n",
              "    <tr>\n",
              "      <th>685</th>\n",
              "      <td>15808223</td>\n",
              "      <td>1</td>\n",
              "      <td>31.57</td>\n",
              "      <td>10.500</td>\n",
              "      <td>2</td>\n",
              "      <td>14</td>\n",
              "      <td>4</td>\n",
              "      <td>6.500</td>\n",
              "      <td>1</td>\n",
              "      <td>0</td>\n",
              "      <td>0</td>\n",
              "      <td>0</td>\n",
              "      <td>2</td>\n",
              "      <td>0</td>\n",
              "      <td>1</td>\n",
              "      <td>1</td>\n",
              "    </tr>\n",
              "    <tr>\n",
              "      <th>686</th>\n",
              "      <td>15769980</td>\n",
              "      <td>1</td>\n",
              "      <td>20.67</td>\n",
              "      <td>0.415</td>\n",
              "      <td>2</td>\n",
              "      <td>8</td>\n",
              "      <td>4</td>\n",
              "      <td>0.125</td>\n",
              "      <td>0</td>\n",
              "      <td>0</td>\n",
              "      <td>0</td>\n",
              "      <td>0</td>\n",
              "      <td>2</td>\n",
              "      <td>0</td>\n",
              "      <td>45</td>\n",
              "      <td>0</td>\n",
              "    </tr>\n",
              "    <tr>\n",
              "      <th>687</th>\n",
              "      <td>15675450</td>\n",
              "      <td>0</td>\n",
              "      <td>18.83</td>\n",
              "      <td>9.540</td>\n",
              "      <td>2</td>\n",
              "      <td>6</td>\n",
              "      <td>4</td>\n",
              "      <td>0.085</td>\n",
              "      <td>1</td>\n",
              "      <td>0</td>\n",
              "      <td>0</td>\n",
              "      <td>0</td>\n",
              "      <td>2</td>\n",
              "      <td>100</td>\n",
              "      <td>1</td>\n",
              "      <td>1</td>\n",
              "    </tr>\n",
              "    <tr>\n",
              "      <th>688</th>\n",
              "      <td>15776494</td>\n",
              "      <td>0</td>\n",
              "      <td>27.42</td>\n",
              "      <td>14.500</td>\n",
              "      <td>2</td>\n",
              "      <td>14</td>\n",
              "      <td>8</td>\n",
              "      <td>3.085</td>\n",
              "      <td>1</td>\n",
              "      <td>1</td>\n",
              "      <td>1</td>\n",
              "      <td>0</td>\n",
              "      <td>2</td>\n",
              "      <td>120</td>\n",
              "      <td>12</td>\n",
              "      <td>1</td>\n",
              "    </tr>\n",
              "    <tr>\n",
              "      <th>689</th>\n",
              "      <td>15592412</td>\n",
              "      <td>1</td>\n",
              "      <td>41.00</td>\n",
              "      <td>0.040</td>\n",
              "      <td>2</td>\n",
              "      <td>10</td>\n",
              "      <td>4</td>\n",
              "      <td>0.040</td>\n",
              "      <td>0</td>\n",
              "      <td>1</td>\n",
              "      <td>1</td>\n",
              "      <td>0</td>\n",
              "      <td>1</td>\n",
              "      <td>560</td>\n",
              "      <td>1</td>\n",
              "      <td>1</td>\n",
              "    </tr>\n",
              "  </tbody>\n",
              "</table>\n",
              "<p>690 rows × 16 columns</p>\n",
              "</div>"
            ],
            "text/plain": [
              "     CustomerID  A1     A2      A3  A4  A5  ...  A10  A11  A12  A13   A14  Class\n",
              "0      15776156   1  22.08  11.460   2   4  ...    0    1    2  100  1213      0\n",
              "1      15739548   0  22.67   7.000   2   8  ...    0    0    2  160     1      0\n",
              "2      15662854   0  29.58   1.750   1   4  ...    0    1    2  280     1      0\n",
              "3      15687688   0  21.67  11.500   1   5  ...   11    1    2    0     1      1\n",
              "4      15715750   1  20.17   8.170   2   6  ...   14    0    2   60   159      1\n",
              "..          ...  ..    ...     ...  ..  ..  ...  ...  ...  ...  ...   ...    ...\n",
              "685    15808223   1  31.57  10.500   2  14  ...    0    0    2    0     1      1\n",
              "686    15769980   1  20.67   0.415   2   8  ...    0    0    2    0    45      0\n",
              "687    15675450   0  18.83   9.540   2   6  ...    0    0    2  100     1      1\n",
              "688    15776494   0  27.42  14.500   2  14  ...    1    0    2  120    12      1\n",
              "689    15592412   1  41.00   0.040   2  10  ...    1    0    1  560     1      1\n",
              "\n",
              "[690 rows x 16 columns]"
            ]
          },
          "metadata": {
            "tags": []
          },
          "execution_count": 3
        }
      ]
    },
    {
      "cell_type": "code",
      "metadata": {
        "colab": {
          "base_uri": "https://localhost:8080/",
          "height": 437
        },
        "id": "TE_khwS4Vdd_",
        "outputId": "f92a82e2-0da3-4869-ccff-b0192d8cc97e"
      },
      "source": [
        "df_class = pd.read_csv('Credit_Card_Applications.csv', index_col = 0, usecols = ['CustomerID','Class'])\r\n",
        "df_class #we'll be using this dataframe at the end"
      ],
      "execution_count": 4,
      "outputs": [
        {
          "output_type": "execute_result",
          "data": {
            "text/html": [
              "<div>\n",
              "<style scoped>\n",
              "    .dataframe tbody tr th:only-of-type {\n",
              "        vertical-align: middle;\n",
              "    }\n",
              "\n",
              "    .dataframe tbody tr th {\n",
              "        vertical-align: top;\n",
              "    }\n",
              "\n",
              "    .dataframe thead th {\n",
              "        text-align: right;\n",
              "    }\n",
              "</style>\n",
              "<table border=\"1\" class=\"dataframe\">\n",
              "  <thead>\n",
              "    <tr style=\"text-align: right;\">\n",
              "      <th></th>\n",
              "      <th>Class</th>\n",
              "    </tr>\n",
              "    <tr>\n",
              "      <th>CustomerID</th>\n",
              "      <th></th>\n",
              "    </tr>\n",
              "  </thead>\n",
              "  <tbody>\n",
              "    <tr>\n",
              "      <th>15776156</th>\n",
              "      <td>0</td>\n",
              "    </tr>\n",
              "    <tr>\n",
              "      <th>15739548</th>\n",
              "      <td>0</td>\n",
              "    </tr>\n",
              "    <tr>\n",
              "      <th>15662854</th>\n",
              "      <td>0</td>\n",
              "    </tr>\n",
              "    <tr>\n",
              "      <th>15687688</th>\n",
              "      <td>1</td>\n",
              "    </tr>\n",
              "    <tr>\n",
              "      <th>15715750</th>\n",
              "      <td>1</td>\n",
              "    </tr>\n",
              "    <tr>\n",
              "      <th>...</th>\n",
              "      <td>...</td>\n",
              "    </tr>\n",
              "    <tr>\n",
              "      <th>15808223</th>\n",
              "      <td>1</td>\n",
              "    </tr>\n",
              "    <tr>\n",
              "      <th>15769980</th>\n",
              "      <td>0</td>\n",
              "    </tr>\n",
              "    <tr>\n",
              "      <th>15675450</th>\n",
              "      <td>1</td>\n",
              "    </tr>\n",
              "    <tr>\n",
              "      <th>15776494</th>\n",
              "      <td>1</td>\n",
              "    </tr>\n",
              "    <tr>\n",
              "      <th>15592412</th>\n",
              "      <td>1</td>\n",
              "    </tr>\n",
              "  </tbody>\n",
              "</table>\n",
              "<p>690 rows × 1 columns</p>\n",
              "</div>"
            ],
            "text/plain": [
              "            Class\n",
              "CustomerID       \n",
              "15776156        0\n",
              "15739548        0\n",
              "15662854        0\n",
              "15687688        1\n",
              "15715750        1\n",
              "...           ...\n",
              "15808223        1\n",
              "15769980        0\n",
              "15675450        1\n",
              "15776494        1\n",
              "15592412        1\n",
              "\n",
              "[690 rows x 1 columns]"
            ]
          },
          "metadata": {
            "tags": []
          },
          "execution_count": 4
        }
      ]
    },
    {
      "cell_type": "markdown",
      "metadata": {
        "id": "qo33XPHKsip8"
      },
      "source": [
        "Separating the Dataset for Customers that got their CC Application Approved and those who didn't"
      ]
    },
    {
      "cell_type": "code",
      "metadata": {
        "colab": {
          "base_uri": "https://localhost:8080/"
        },
        "id": "3M3MsaBr4nWQ",
        "outputId": "f4697909-d814-4d79-e66b-e27f3ac45924"
      },
      "source": [
        "#Normally we'd exclude the customer ID in analysis. However, in a SOM, they would make no difference since the values are similar, so they would all cluster together\r\n",
        "#In addition, we're going to keep the customer ID so that we can show at the end which customer IDs were most likely frauds\r\n",
        "X = df.iloc[:, :-1].values #getting all the rows (customers), and getting all the columns, except the last one which is whether they got the CC approved or not\r\n",
        "print(X[0])\r\n",
        "print(X.shape) #690 rows of data with 14 columns as expected"
      ],
      "execution_count": 5,
      "outputs": [
        {
          "output_type": "stream",
          "text": [
            "[1.5776156e+07 1.0000000e+00 2.2080000e+01 1.1460000e+01 2.0000000e+00\n",
            " 4.0000000e+00 4.0000000e+00 1.5850000e+00 0.0000000e+00 0.0000000e+00\n",
            " 0.0000000e+00 1.0000000e+00 2.0000000e+00 1.0000000e+02 1.2130000e+03]\n",
            "(690, 15)\n"
          ],
          "name": "stdout"
        }
      ]
    },
    {
      "cell_type": "code",
      "metadata": {
        "colab": {
          "base_uri": "https://localhost:8080/"
        },
        "id": "pL9sD00Y4jKJ",
        "outputId": "0e5e0ee7-ff3c-443c-c842-b93a57725fd7"
      },
      "source": [
        "y = df['Class'].values #setting the Class column as our label where 0 is CC not approved and 1 is CC approved\r\n",
        "print(y[0:10] )"
      ],
      "execution_count": 6,
      "outputs": [
        {
          "output_type": "stream",
          "text": [
            "[0 0 0 1 1 1 0 1 0 0]\n"
          ],
          "name": "stdout"
        }
      ]
    },
    {
      "cell_type": "markdown",
      "metadata": {
        "id": "dCD0VY9ctsDP"
      },
      "source": [
        "Feature Scaling"
      ]
    },
    {
      "cell_type": "code",
      "metadata": {
        "id": "54zSWFi0tzQ6",
        "colab": {
          "base_uri": "https://localhost:8080/"
        },
        "outputId": "aceb3561-4177-43b5-ac6b-e920ef7729fc"
      },
      "source": [
        "#We need to normalize the data between -1 and 1, and we normalize the data because NN typically train better due to the way weights and biases update after normalization\n",
        "scaler = MinMaxScaler(feature_range=(0,1)) #so here we're scaling the values down from 0 to 1\n",
        "\n",
        "X = scaler.fit_transform(X) #now we're fitting it but also transforming X to be scaled\n",
        "print(X[0]) #notice all the values are now scaled between 0 and 1\n",
        "print(X.shape) #notice "
      ],
      "execution_count": 7,
      "outputs": [
        {
          "output_type": "stream",
          "text": [
            "[0.84268147 1.         0.12526316 0.40928571 0.5        0.23076923\n",
            " 0.375      0.05561404 0.         0.         0.         1.\n",
            " 0.5        0.05       0.01212   ]\n",
            "(690, 15)\n"
          ],
          "name": "stdout"
        }
      ]
    },
    {
      "cell_type": "markdown",
      "metadata": {
        "id": "pDiFSFaiuf5W"
      },
      "source": [
        "# Part 2 - Training the SOM"
      ]
    },
    {
      "cell_type": "code",
      "metadata": {
        "id": "0V6zMCnHISEk"
      },
      "source": [
        "som = MiniSom(x=12, y=12, input_len= 15, sigma= 1.0, learning_rate = 0.5) #our grid size will be 12x12, since we don't have too much data (only 690 customers). But if you want to make it more accurate, we can always increase the grid size\r\n",
        "#input length of 15 which are our 15 columns. Sigma is the radius of the different centroids in the grid, and we'll use it's default value of 1. Also using default learning rate\r\n",
        "\r\n",
        "som.random_weights_init(X) #using the random_weights_init method from MiniSom to randomly initialize our centroids\r\n",
        "\r\n",
        "som.train_random(data = X, num_iteration = 150) "
      ],
      "execution_count": 8,
      "outputs": []
    },
    {
      "cell_type": "markdown",
      "metadata": {
        "id": "XfzA4Y8XvZ7C"
      },
      "source": [
        "# Part 3 - Visualize the SOM"
      ]
    },
    {
      "cell_type": "code",
      "metadata": {
        "colab": {
          "base_uri": "https://localhost:8080/",
          "height": 287
        },
        "id": "Fm1yVJycGsr0",
        "outputId": "934ccf14-dfbd-4cce-fbf6-8b06d6d700fb"
      },
      "source": [
        "bone() #providing us with the window (bones of our figure)\r\n",
        "pcolor(som.distance_map().T) #returning the transposed matrix of all the mean interneuron distances for all the nodes\r\n",
        "colorbar() #so with this legend, we can see the highest Mean Interneuron Distances (MID), are the white colours, meaning these guys are the outliers (the outlying nodes are far from the rules, therefore are the frauds)\r\n",
        "#so here we can tell that points (3,1) and (10,10) seem to be frauds"
      ],
      "execution_count": 9,
      "outputs": [
        {
          "output_type": "execute_result",
          "data": {
            "text/plain": [
              "<matplotlib.colorbar.Colorbar at 0x7f1292093eb8>"
            ]
          },
          "metadata": {
            "tags": []
          },
          "execution_count": 9
        },
        {
          "output_type": "display_data",
          "data": {
            "image/png": "[encoded data removed]",
            "text/plain": [
              "<Figure size 432x288 with 2 Axes>"
            ]
          },
          "metadata": {
            "tags": [],
            "needs_background": "light"
          }
        }
      ]
    },
    {
      "cell_type": "code",
      "metadata": {
        "colab": {
          "base_uri": "https://localhost:8080/",
          "height": 269
        },
        "id": "b89W0WlDGtmf",
        "outputId": "474fb94a-d47e-44e9-dbf1-0e64cda2696c"
      },
      "source": [
        "bone() #providing us with the window (bones of our figure)\r\n",
        "pcolor(som.distance_map().T) #returning the transposed matrix of all the mean interneuron distances for all the nodes\r\n",
        "colorbar() \r\n",
        "\r\n",
        "#going to mark the figure above with red circles if the customer didn't get approval and green squares if they did get approval\r\n",
        "markers = ['o', 's'] #using 2 markers, using circle and square\r\n",
        "colors = ['r', 'g'] #using 2 colours red and green\r\n",
        "\r\n",
        "#Below, i will represent each customer and x will repesent the customer information\r\n",
        "#in the plot, w[0] (first coordinate) and w[1] (second coordinate) is the coordinate of the lower left corner of the square, so we added 0.5 and 0.5 to put it in the center \r\n",
        "#y[i] means the approval result for customer i, and setting markers red circle as no approval and green square as yes approval\r\n",
        "for i, x in enumerate(X):\r\n",
        "    w = som.winner(x) #grabbing the winning node for custom x\r\n",
        "    plot(w[0] +0.5, \r\n",
        "         w[1] +0.5,\r\n",
        "         markers[y[i]],\r\n",
        "         markeredgecolor = colors[y[i]],\r\n",
        "         markeredgewidth = 1,\r\n",
        "         markersize = 12,\r\n",
        "         markerfacecolor = 'None')"
      ],
      "execution_count": 10,
      "outputs": [
        {
          "output_type": "display_data",
          "data": {
            "image/png": "[encoded data removed]",
            "text/plain": [
              "<Figure size 432x288 with 2 Axes>"
            ]
          },
          "metadata": {
            "tags": [],
            "needs_background": "light"
          }
        }
      ]
    },
    {
      "cell_type": "markdown",
      "metadata": {
        "id": "ZeXMily5Kdfm"
      },
      "source": [
        "## Part 4 - Marking the Frauds"
      ]
    },
    {
      "cell_type": "code",
      "metadata": {
        "colab": {
          "base_uri": "https://localhost:8080/"
        },
        "id": "T-58vKwwIPGx",
        "outputId": "4010446b-98d3-41e8-cced-9c87a4e59836"
      },
      "source": [
        "mappings = som.win_map(X) #now we're grabbing the customers within each coordinate\r\n",
        "frauds1 = mappings[(3,1)] #looks like there are only frauds in (3,1), but none in (10,10)\r\n",
        "\r\n",
        "print(len(frauds1), \"frauds in coordinate (3,1)\")"
      ],
      "execution_count": 18,
      "outputs": [
        {
          "output_type": "stream",
          "text": [
            "23 frauds in coordinate (3,1)\n"
          ],
          "name": "stdout"
        }
      ]
    },
    {
      "cell_type": "code",
      "metadata": {
        "id": "TxHo4z9vKnTH"
      },
      "source": [
        "frauds = scaler.inverse_transform(frauds1)"
      ],
      "execution_count": 19,
      "outputs": []
    },
    {
      "cell_type": "code",
      "metadata": {
        "colab": {
          "base_uri": "https://localhost:8080/"
        },
        "id": "KWWNuP2FLIZK",
        "outputId": "4802a31b-4902-4dbe-aafe-cc490a417ad9"
      },
      "source": [
        "print('CustomerID', '      Class') \r\n",
        "\r\n",
        "approve_count = 0\r\n",
        "count = 0\r\n",
        "\r\n",
        "for i in frauds[:, 0]:\r\n",
        "  classification = df_class.at[i,'Class'] \r\n",
        "  print(int(i),'       ', classification)\r\n",
        "  count += 1\r\n",
        "  if classification == 1:\r\n",
        "    approve_count += 1\r\n",
        "\r\n",
        "print(count, \"potential frauds in total\")\r\n",
        "print(approve_count, \"frauds got approved\")"
      ],
      "execution_count": 20,
      "outputs": [
        {
          "output_type": "stream",
          "text": [
            "CustomerID       Class\n",
            "15631685         1\n",
            "15753591         1\n",
            "15587297         0\n",
            "15682540         0\n",
            "15797246         0\n",
            "15609823         0\n",
            "15614813         1\n",
            "15594133         1\n",
            "15571081         1\n",
            "15653147         0\n",
            "15778142         1\n",
            "15625501         0\n",
            "15715519         1\n",
            "15630592         1\n",
            "15636562         1\n",
            "15589541         1\n",
            "15757306         1\n",
            "15569595         1\n",
            "15598574         1\n",
            "15587443         0\n",
            "15711759         1\n",
            "15665181         0\n",
            "15808223         1\n",
            "23 potential frauds in total\n",
            "15 frauds got approved\n"
          ],
          "name": "stdout"
        }
      ]
    },
    {
      "cell_type": "code",
      "metadata": {
        "id": "8NTvtECndaim"
      },
      "source": [
        ""
      ],
      "execution_count": null,
      "outputs": []
    }
  ]
}